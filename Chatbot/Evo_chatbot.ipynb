{
 "cells": [
  {
   "cell_type": "code",
   "execution_count": 1,
   "id": "72f723e8",
   "metadata": {},
   "outputs": [],
   "source": [
    "import random\n",
    "import time"
   ]
  },
  {
   "cell_type": "code",
   "execution_count": 2,
   "id": "6c3db991",
   "metadata": {},
   "outputs": [],
   "source": [
    "def greet():\n",
    "    greetings = [\"\\033[1;36mEvoBot: Hello! Welcome to our loan enquiry chatbot. How can I assist you with your loan needs?.\\033[0m\"]\n",
    "    greeting = random.choice(greetings)\n",
    "    print(greeting)\n",
    "    time.sleep(2)"
   ]
  },
  {
   "cell_type": "code",
   "execution_count": 3,
   "id": "066b4507",
   "metadata": {},
   "outputs": [],
   "source": [
    "def ask_name():\n",
    "    print(\"\\033[1;31mEvoBot: What is your name?\\033[0m\")\n",
    "    name = input(\"User: \")\n",
    "    time.sleep(1)\n",
    "    print(\"\\033[1;36mEVoBot: Welcome! Pleasure to meet you, \" + name + \"\\033[0m\")\n",
    "    time.sleep(2)"
   ]
  },
  {
   "cell_type": "code",
   "execution_count": 4,
   "id": "acc7c489",
   "metadata": {},
   "outputs": [],
   "source": [
    "def ask_apply():\n",
    "    apply = input(\"User: \") #How to apply for a loan?\n",
    "    time.sleep(1)\n",
    "    print(\"\\033[1;36mEvoBot: To apply for a loan, you need to fill out an application form and submit some supporting documents. We'll review your application and get back to you within a few days.\\033[0m\")\n",
    "    time.sleep(2)"
   ]
  },
  {
   "cell_type": "code",
   "execution_count": 5,
   "id": "d9f9f563",
   "metadata": {},
   "outputs": [],
   "source": [
    "def ask_loantype():\n",
    "    loantype = input(\"User: \") #What types of loan do you have?\n",
    "    time.sleep(1)\n",
    "    print(\"\\033[1;36mEvoBot: We offer personal loans, home loans, business loans and car loans.\\033[0m\")\n",
    "    time.sleep(2)"
   ]
  },
  {
   "cell_type": "code",
   "execution_count": 6,
   "id": "8d0f96bf",
   "metadata": {},
   "outputs": [],
   "source": [
    "def ask_typeofloan():\n",
    "    print(\"\\033[1;31mEvoBot: Which type of loan are you interested in?\\033[0m\")\n",
    "    typeofloan = input(\"User: \")\n",
    "    time.sleep(1)\n",
    "    print(\"\\033[1;36mEvoBot: Great Choice to take, \" + typeofloan + \"\\033[0m\")\n",
    "    time.sleep(2)"
   ]
  },
  {
   "cell_type": "code",
   "execution_count": 7,
   "id": "af6fd1f5",
   "metadata": {},
   "outputs": [],
   "source": [
    "def ask_loanterms():\n",
    "    loanterms = input(\"User: \") #what are the loan terms?\n",
    "    time.sleep(1)\n",
    "    print(\"\\033[1;36mEvoBot: The terms of our loan can be found in our website.\\033[0m\")\n",
    "    time.sleep(2)"
   ]
  },
  {
   "cell_type": "code",
   "execution_count": 8,
   "id": "44077652",
   "metadata": {},
   "outputs": [],
   "source": [
    "def ask_website():\n",
    "    website = input(\"User: \") #What is your website?\n",
    "    time.sleep(1)\n",
    "    print(\"\\033[1;36mEvoBot: evobank.com\\033[0m\")\n",
    "    time.sleep(2)"
   ]
  },
  {
   "cell_type": "code",
   "execution_count": 9,
   "id": "3e195746",
   "metadata": {},
   "outputs": [],
   "source": [
    "def ask_money():\n",
    "    print(\"\\033[1;31mEvoBot: How much money are you looking to borrow?\\033[0m\")\n",
    "    money = input(\"User: \")\n",
    "    time.sleep(1)"
   ]
  },
  {
   "cell_type": "code",
   "execution_count": 10,
   "id": "f09be8ad",
   "metadata": {},
   "outputs": [],
   "source": [
    "def ask_income():\n",
    "    print(\"\\033[1;31mEvoBot: What is your approximate annual income?\\033[0m\")\n",
    "    income = input(\"User: \")\n",
    "    time.sleep(1)"
   ]
  },
  {
   "cell_type": "code",
   "execution_count": 11,
   "id": "786f548f",
   "metadata": {},
   "outputs": [],
   "source": [
    "def ask_loancalculator():\n",
    "    loancalculator = input(\"User: \") #Do you have a loan calculator?\n",
    "    time.sleep(1)\n",
    "    print(\"\\033[1;36mEvoBot: You can use our loan calculator to estimate your monthly payments based on your loan amount, interest rate, and repayment period.\\033[0m\")\n",
    "    time.sleep(2)"
   ]
  },
  {
   "cell_type": "code",
   "execution_count": 12,
   "id": "b8b88430",
   "metadata": {},
   "outputs": [],
   "source": [
    "def ask_insurance():\n",
    "    insurance = input(\"User: \") #Do you offer loan insurance or protection plans?\n",
    "    time.sleep(1)\n",
    "    print(\"\\033[1;36mEvoBot: In case the borrower is unable to repay EMIs due to unforeseen circumstances such as death, accident, or job loss, loan insurance comes into the picture.\\033[0m\")\n",
    "    time.sleep(2)"
   ]
  },
  {
   "cell_type": "code",
   "execution_count": 13,
   "id": "bbd579f9",
   "metadata": {},
   "outputs": [],
   "source": [
    "def ask_help():\n",
    "    print(\"\\033[1;31mEvoBot: Do you have any specific questions or concerns about the loan application process?\\033[0m\")\n",
    "    help_needed = input(\"User: \").lower()\n",
    "    if help_needed == \"yes\":\n",
    "        return True\n",
    "    else:\n",
    "        return False"
   ]
  },
  {
   "cell_type": "code",
   "execution_count": 14,
   "id": "302523ec",
   "metadata": {},
   "outputs": [],
   "source": [
    "def main():\n",
    "    greet()\n",
    "    ask_name()\n",
    "    ask_apply()\n",
    "    ask_loantype()\n",
    "    ask_typeofloan()\n",
    "    ask_loanterms()\n",
    "    ask_website()\n",
    "    ask_money()\n",
    "    ask_income()\n",
    "    ask_loancalculator()\n",
    "    ask_insurance()\n",
    "    while ask_help():\n",
    "        ask_loantype()\n",
    "    print(\"\\033[1;36mEvoBot: It's a great time with you, thank you.\\033[0m\")"
   ]
  },
  {
   "cell_type": "code",
   "execution_count": 17,
   "id": "8be4864a",
   "metadata": {},
   "outputs": [
    {
     "name": "stdout",
     "output_type": "stream",
     "text": [
      "\u001b[1;36mEvoBot: Hello! Welcome to our loan enquiry chatbot. How can I assist you with your loan needs?.\u001b[0m\n",
      "\u001b[1;31mEvoBot: What is your name?\u001b[0m\n",
      "User: adlin\n",
      "\u001b[1;36mEVoBot: Welcome! Pleasure to meet you, adlin\u001b[0m\n",
      "User: How to apply for a loan?\n",
      "\u001b[1;36mEvoBot: To apply for a loan, you need to fill out an application form and submit some supporting documents. We'll review your application and get back to you within a few days.\u001b[0m\n",
      "User: What types of loans do you offer?\n",
      "\u001b[1;36mEvoBot: We offer personal loans, home loans, business loans and car loans.\u001b[0m\n",
      "\u001b[1;31mEvoBot: Which type of loan are you interested in?\u001b[0m\n",
      "User: business loans\n",
      "\u001b[1;36mEvoBot: Great Choice to take, business loans\u001b[0m\n",
      "User: What are the loan terms?\n",
      "\u001b[1;36mEvoBot: The terms of our loan can be found in our website.\u001b[0m\n",
      "User: What is your website?\n",
      "\u001b[1;36mEvoBot: evobank.com\u001b[0m\n",
      "\u001b[1;31mEvoBot: How much money are you looking to borrow?\u001b[0m\n",
      "User: 1,00000\n",
      "\u001b[1;31mEvoBot: What is your approximate annual income?\u001b[0m\n",
      "User: 80,000\n",
      "User: Do you have a loan calculator?\n",
      "\u001b[1;36mEvoBot: You can use our loan calculator to estimate your monthly payments based on your loan amount, interest rate, and repayment period.\u001b[0m\n",
      "User: Do you offer loan insurance or protection plans?\n",
      "\u001b[1;36mEvoBot: In case the borrower is unable to repay EMIs due to unforeseen circumstances such as death, accident, or job loss, loan insurance comes into the picture.\u001b[0m\n",
      "\u001b[1;31mEvoBot: Do you have any specific questions or concerns about the loan application process?\u001b[0m\n",
      "User: No\n",
      "\u001b[1;36mEvoBot: It's a great time with you, thank you.\u001b[0m\n"
     ]
    }
   ],
   "source": [
    "if __name__ == \"__main__\":\n",
    "    main()"
   ]
  }
 ],
 "metadata": {
  "kernelspec": {
   "display_name": "Python 3 (ipykernel)",
   "language": "python",
   "name": "python3"
  },
  "language_info": {
   "codemirror_mode": {
    "name": "ipython",
    "version": 3
   },
   "file_extension": ".py",
   "mimetype": "text/x-python",
   "name": "python",
   "nbconvert_exporter": "python",
   "pygments_lexer": "ipython3",
   "version": "3.11.3"
  }
 },
 "nbformat": 4,
 "nbformat_minor": 5
}
